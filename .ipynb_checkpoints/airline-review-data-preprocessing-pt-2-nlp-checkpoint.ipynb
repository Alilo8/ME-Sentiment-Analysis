{
 "cells": [
  {
   "cell_type": "markdown",
   "metadata": {
    "papermill": {
     "duration": 0.031782,
     "end_time": "2020-11-27T07:55:16.004514",
     "exception": false,
     "start_time": "2020-11-27T07:55:15.972732",
     "status": "completed"
    },
    "tags": []
   },
   "source": [
    "# 1. Necessary imports"
   ]
  },
  {
   "cell_type": "code",
   "execution_count": 1,
   "metadata": {
    "_cell_guid": "79c7e3d0-c299-4dcb-8224-4455121ee9b0",
    "_kg_hide-input": true,
    "_uuid": "d629ff2d2480ee46fbb7e2d37f6b5fab8052498a",
    "execution": {
     "iopub.execute_input": "2020-11-27T07:55:16.078322Z",
     "iopub.status.busy": "2020-11-27T07:55:16.077610Z",
     "iopub.status.idle": "2020-11-27T07:55:18.061471Z",
     "shell.execute_reply": "2020-11-27T07:55:18.060811Z"
    },
    "papermill": {
     "duration": 2.025075,
     "end_time": "2020-11-27T07:55:18.061581",
     "exception": false,
     "start_time": "2020-11-27T07:55:16.036506",
     "status": "completed"
    },
    "tags": []
   },
   "outputs": [
    {
     "name": "stderr",
     "output_type": "stream",
     "text": [
      "/opt/conda/lib/python3.7/site-packages/nltk/twitter/__init__.py:20: UserWarning: The twython library has not been installed. Some functionality from the twitter package will not be available.\n",
      "  warnings.warn(\"The twython library has not been installed. \"\n"
     ]
    }
   ],
   "source": [
    "import numpy as np\n",
    "import pandas as pd\n",
    "import matplotlib.pyplot as plt\n",
    "import seaborn as sns\n",
    "sns.set_palette('Set2')\n",
    "\n",
    "import datetime as dt\n",
    "import dateutil\n",
    "\n",
    "import string\n",
    "\n",
    "from sklearn.feature_extraction.text import CountVectorizer\n",
    "\n",
    "import nltk\n",
    "from nltk import tokenize, pos_tag\n",
    "from nltk.corpus import stopwords, wordnet\n",
    "from nltk.sentiment.vader import SentimentIntensityAnalyzer\n",
    "from nltk.stem import WordNetLemmatizer\n",
    "\n",
    "import importlib"
   ]
  },
  {
   "cell_type": "markdown",
   "metadata": {
    "papermill": {
     "duration": 0.032073,
     "end_time": "2020-11-27T07:55:18.127619",
     "exception": false,
     "start_time": "2020-11-27T07:55:18.095546",
     "status": "completed"
    },
    "tags": []
   },
   "source": [
    "# 2. Loading the input data"
   ]
  },
  {
   "cell_type": "code",
   "execution_count": 2,
   "metadata": {
    "execution": {
     "iopub.execute_input": "2020-11-27T07:55:18.211181Z",
     "iopub.status.busy": "2020-11-27T07:55:18.210466Z",
     "iopub.status.idle": "2020-11-27T07:55:18.228171Z",
     "shell.execute_reply": "2020-11-27T07:55:18.227613Z"
    },
    "papermill": {
     "duration": 0.067798,
     "end_time": "2020-11-27T07:55:18.228285",
     "exception": false,
     "start_time": "2020-11-27T07:55:18.160487",
     "status": "completed"
    },
    "tags": []
   },
   "outputs": [],
   "source": [
    "# Type of each field in the input data.\n",
    "df_dtype = pd.read_csv('../input/airline-reviews-eda-and-preprocessing/PreprocessedDataLightTypes.csv')\n",
    "dict_dtype = df_dtype[['index','dtypes']].set_index('index').to_dict()['dtypes']\n",
    "dict_dtype['recommended'] = 'bool'"
   ]
  },
  {
   "cell_type": "code",
   "execution_count": 3,
   "metadata": {
    "execution": {
     "iopub.execute_input": "2020-11-27T07:55:18.303034Z",
     "iopub.status.busy": "2020-11-27T07:55:18.302395Z",
     "iopub.status.idle": "2020-11-27T07:55:19.106210Z",
     "shell.execute_reply": "2020-11-27T07:55:19.105591Z"
    },
    "papermill": {
     "duration": 0.844232,
     "end_time": "2020-11-27T07:55:19.106322",
     "exception": false,
     "start_time": "2020-11-27T07:55:18.262090",
     "status": "completed"
    },
    "tags": []
   },
   "outputs": [],
   "source": [
    "# Input data.\n",
    "df = pd.read_csv('../input/airline-reviews-eda-and-preprocessing/PreprocessedDataLight.csv', dtype=dict_dtype, keep_default_na=False, na_values=['_'])\n",
    "df.drop(columns=['Unnamed: 0'],inplace=True)"
   ]
  },
  {
   "cell_type": "code",
   "execution_count": 4,
   "metadata": {
    "execution": {
     "iopub.execute_input": "2020-11-27T07:55:19.201572Z",
     "iopub.status.busy": "2020-11-27T07:55:19.182577Z",
     "iopub.status.idle": "2020-11-27T07:55:19.222754Z",
     "shell.execute_reply": "2020-11-27T07:55:19.223231Z"
    },
    "papermill": {
     "duration": 0.08411,
     "end_time": "2020-11-27T07:55:19.223372",
     "exception": false,
     "start_time": "2020-11-27T07:55:19.139262",
     "status": "completed"
    },
    "tags": []
   },
   "outputs": [
    {
     "data": {
      "text/html": [
       "<div>\n",
       "<style scoped>\n",
       "    .dataframe tbody tr th:only-of-type {\n",
       "        vertical-align: middle;\n",
       "    }\n",
       "\n",
       "    .dataframe tbody tr th {\n",
       "        vertical-align: top;\n",
       "    }\n",
       "\n",
       "    .dataframe thead th {\n",
       "        text-align: right;\n",
       "    }\n",
       "</style>\n",
       "<table border=\"1\" class=\"dataframe\">\n",
       "  <thead>\n",
       "    <tr style=\"text-align: right;\">\n",
       "      <th></th>\n",
       "      <th>airline</th>\n",
       "      <th>review_score</th>\n",
       "      <th>traveller_type</th>\n",
       "      <th>cabin</th>\n",
       "      <th>seat_comfort</th>\n",
       "      <th>cabin_service</th>\n",
       "      <th>food_bev</th>\n",
       "      <th>entertainment</th>\n",
       "      <th>ground_service</th>\n",
       "      <th>value_for_money</th>\n",
       "      <th>...</th>\n",
       "      <th>review_date_month</th>\n",
       "      <th>review_date_year</th>\n",
       "      <th>date_flown_day</th>\n",
       "      <th>date_flown_month</th>\n",
       "      <th>date_flown_year</th>\n",
       "      <th>review_date_date_flown_distance_days</th>\n",
       "      <th>review_characters</th>\n",
       "      <th>pos_neu_neg_review_score</th>\n",
       "      <th>has_layover</th>\n",
       "      <th>recommended</th>\n",
       "    </tr>\n",
       "  </thead>\n",
       "  <tbody>\n",
       "    <tr>\n",
       "      <th>0</th>\n",
       "      <td>Turkish Airlines</td>\n",
       "      <td>7</td>\n",
       "      <td>Business</td>\n",
       "      <td>Economy Class</td>\n",
       "      <td>4</td>\n",
       "      <td>5</td>\n",
       "      <td>4</td>\n",
       "      <td>4</td>\n",
       "      <td>2</td>\n",
       "      <td>4</td>\n",
       "      <td>...</td>\n",
       "      <td>5.0</td>\n",
       "      <td>2019.0</td>\n",
       "      <td>1.0</td>\n",
       "      <td>5.0</td>\n",
       "      <td>2019.0</td>\n",
       "      <td>7.0</td>\n",
       "      <td>1094</td>\n",
       "      <td>pos</td>\n",
       "      <td>True</td>\n",
       "      <td>True</td>\n",
       "    </tr>\n",
       "    <tr>\n",
       "      <th>1</th>\n",
       "      <td>Turkish Airlines</td>\n",
       "      <td>2</td>\n",
       "      <td>Family Leisure</td>\n",
       "      <td>Economy Class</td>\n",
       "      <td>4</td>\n",
       "      <td>1</td>\n",
       "      <td>1</td>\n",
       "      <td>1</td>\n",
       "      <td>1</td>\n",
       "      <td>1</td>\n",
       "      <td>...</td>\n",
       "      <td>5.0</td>\n",
       "      <td>2019.0</td>\n",
       "      <td>1.0</td>\n",
       "      <td>5.0</td>\n",
       "      <td>2019.0</td>\n",
       "      <td>6.0</td>\n",
       "      <td>425</td>\n",
       "      <td>neg</td>\n",
       "      <td>False</td>\n",
       "      <td>False</td>\n",
       "    </tr>\n",
       "    <tr>\n",
       "      <th>2</th>\n",
       "      <td>Turkish Airlines</td>\n",
       "      <td>3</td>\n",
       "      <td>Business</td>\n",
       "      <td>Economy Class</td>\n",
       "      <td>1</td>\n",
       "      <td>4</td>\n",
       "      <td>1</td>\n",
       "      <td>3</td>\n",
       "      <td>1</td>\n",
       "      <td>2</td>\n",
       "      <td>...</td>\n",
       "      <td>5.0</td>\n",
       "      <td>2019.0</td>\n",
       "      <td>1.0</td>\n",
       "      <td>5.0</td>\n",
       "      <td>2019.0</td>\n",
       "      <td>6.0</td>\n",
       "      <td>1597</td>\n",
       "      <td>neg</td>\n",
       "      <td>True</td>\n",
       "      <td>False</td>\n",
       "    </tr>\n",
       "    <tr>\n",
       "      <th>3</th>\n",
       "      <td>Turkish Airlines</td>\n",
       "      <td>10</td>\n",
       "      <td>Solo Leisure</td>\n",
       "      <td>Economy Class</td>\n",
       "      <td>4</td>\n",
       "      <td>5</td>\n",
       "      <td>5</td>\n",
       "      <td>5</td>\n",
       "      <td>5</td>\n",
       "      <td>5</td>\n",
       "      <td>...</td>\n",
       "      <td>5.0</td>\n",
       "      <td>2019.0</td>\n",
       "      <td>23.0</td>\n",
       "      <td>4.0</td>\n",
       "      <td>2019.0</td>\n",
       "      <td>13.0</td>\n",
       "      <td>875</td>\n",
       "      <td>pos</td>\n",
       "      <td>False</td>\n",
       "      <td>True</td>\n",
       "    </tr>\n",
       "    <tr>\n",
       "      <th>4</th>\n",
       "      <td>Turkish Airlines</td>\n",
       "      <td>1</td>\n",
       "      <td>Solo Leisure</td>\n",
       "      <td>Economy Class</td>\n",
       "      <td>1</td>\n",
       "      <td>1</td>\n",
       "      <td>1</td>\n",
       "      <td>1</td>\n",
       "      <td>1</td>\n",
       "      <td>1</td>\n",
       "      <td>...</td>\n",
       "      <td>5.0</td>\n",
       "      <td>2019.0</td>\n",
       "      <td>1.0</td>\n",
       "      <td>5.0</td>\n",
       "      <td>2019.0</td>\n",
       "      <td>5.0</td>\n",
       "      <td>366</td>\n",
       "      <td>neg</td>\n",
       "      <td>True</td>\n",
       "      <td>False</td>\n",
       "    </tr>\n",
       "  </tbody>\n",
       "</table>\n",
       "<p>5 rows × 22 columns</p>\n",
       "</div>"
      ],
      "text/plain": [
       "            airline  review_score  traveller_type          cabin  \\\n",
       "0  Turkish Airlines             7        Business  Economy Class   \n",
       "1  Turkish Airlines             2  Family Leisure  Economy Class   \n",
       "2  Turkish Airlines             3        Business  Economy Class   \n",
       "3  Turkish Airlines            10    Solo Leisure  Economy Class   \n",
       "4  Turkish Airlines             1    Solo Leisure  Economy Class   \n",
       "\n",
       "   seat_comfort  cabin_service  food_bev  entertainment  ground_service  \\\n",
       "0             4              5         4              4               2   \n",
       "1             4              1         1              1               1   \n",
       "2             1              4         1              3               1   \n",
       "3             4              5         5              5               5   \n",
       "4             1              1         1              1               1   \n",
       "\n",
       "   value_for_money  ... review_date_month  review_date_year  date_flown_day  \\\n",
       "0                4  ...               5.0            2019.0             1.0   \n",
       "1                1  ...               5.0            2019.0             1.0   \n",
       "2                2  ...               5.0            2019.0             1.0   \n",
       "3                5  ...               5.0            2019.0            23.0   \n",
       "4                1  ...               5.0            2019.0             1.0   \n",
       "\n",
       "   date_flown_month  date_flown_year  review_date_date_flown_distance_days  \\\n",
       "0               5.0           2019.0                                   7.0   \n",
       "1               5.0           2019.0                                   6.0   \n",
       "2               5.0           2019.0                                   6.0   \n",
       "3               4.0           2019.0                                  13.0   \n",
       "4               5.0           2019.0                                   5.0   \n",
       "\n",
       "   review_characters  pos_neu_neg_review_score  has_layover recommended  \n",
       "0               1094                       pos         True        True  \n",
       "1                425                       neg        False       False  \n",
       "2               1597                       neg         True       False  \n",
       "3                875                       pos        False        True  \n",
       "4                366                       neg         True       False  \n",
       "\n",
       "[5 rows x 22 columns]"
      ]
     },
     "execution_count": 4,
     "metadata": {},
     "output_type": "execute_result"
    }
   ],
   "source": [
    "df.head()"
   ]
  },
  {
   "cell_type": "code",
   "execution_count": 5,
   "metadata": {
    "execution": {
     "iopub.execute_input": "2020-11-27T07:55:19.298547Z",
     "iopub.status.busy": "2020-11-27T07:55:19.297805Z",
     "iopub.status.idle": "2020-11-27T07:55:19.303412Z",
     "shell.execute_reply": "2020-11-27T07:55:19.302688Z"
    },
    "papermill": {
     "duration": 0.045266,
     "end_time": "2020-11-27T07:55:19.303559",
     "exception": false,
     "start_time": "2020-11-27T07:55:19.258293",
     "status": "completed"
    },
    "tags": []
   },
   "outputs": [
    {
     "data": {
      "text/plain": [
       "(22822, 22)"
      ]
     },
     "execution_count": 5,
     "metadata": {},
     "output_type": "execute_result"
    }
   ],
   "source": [
    "df.shape"
   ]
  },
  {
   "cell_type": "markdown",
   "metadata": {
    "papermill": {
     "duration": 0.050949,
     "end_time": "2020-11-27T07:55:19.406004",
     "exception": false,
     "start_time": "2020-11-27T07:55:19.355055",
     "status": "completed"
    },
    "tags": []
   },
   "source": [
    "Get the names of the columns"
   ]
  },
  {
   "cell_type": "code",
   "execution_count": 6,
   "metadata": {
    "execution": {
     "iopub.execute_input": "2020-11-27T07:55:19.516039Z",
     "iopub.status.busy": "2020-11-27T07:55:19.515190Z",
     "iopub.status.idle": "2020-11-27T07:55:19.520531Z",
     "shell.execute_reply": "2020-11-27T07:55:19.519921Z"
    },
    "papermill": {
     "duration": 0.063676,
     "end_time": "2020-11-27T07:55:19.520633",
     "exception": false,
     "start_time": "2020-11-27T07:55:19.456957",
     "status": "completed"
    },
    "tags": []
   },
   "outputs": [
    {
     "name": "stdout",
     "output_type": "stream",
     "text": [
      "Columns in the dataset:\n",
      "['airline', 'review_score', 'traveller_type', 'cabin', 'seat_comfort', 'cabin_service', 'food_bev', 'entertainment', 'ground_service', 'value_for_money', 'review_text', 'review_date_day', 'review_date_month', 'review_date_year', 'date_flown_day', 'date_flown_month', 'date_flown_year', 'review_date_date_flown_distance_days', 'review_characters', 'pos_neu_neg_review_score', 'has_layover', 'recommended']\n"
     ]
    }
   ],
   "source": [
    "cols = df.columns.to_list()\n",
    "print('Columns in the dataset:')\n",
    "print(cols)"
   ]
  },
  {
   "cell_type": "markdown",
   "metadata": {
    "papermill": {
     "duration": 0.0347,
     "end_time": "2020-11-27T07:55:19.590098",
     "exception": false,
     "start_time": "2020-11-27T07:55:19.555398",
     "status": "completed"
    },
    "tags": []
   },
   "source": [
    "Get the total number of reviews in the dataset"
   ]
  },
  {
   "cell_type": "code",
   "execution_count": 7,
   "metadata": {
    "execution": {
     "iopub.execute_input": "2020-11-27T07:55:19.665419Z",
     "iopub.status.busy": "2020-11-27T07:55:19.664736Z",
     "iopub.status.idle": "2020-11-27T07:55:19.669488Z",
     "shell.execute_reply": "2020-11-27T07:55:19.668793Z"
    },
    "papermill": {
     "duration": 0.044574,
     "end_time": "2020-11-27T07:55:19.669621",
     "exception": false,
     "start_time": "2020-11-27T07:55:19.625047",
     "status": "completed"
    },
    "tags": []
   },
   "outputs": [
    {
     "name": "stdout",
     "output_type": "stream",
     "text": [
      "Number of customer reviews in the dataset: 22822\n"
     ]
    }
   ],
   "source": [
    "n_reviews = df.shape[0]\n",
    "print('Number of customer reviews in the dataset: {:d}'.format(n_reviews))"
   ]
  },
  {
   "cell_type": "markdown",
   "metadata": {
    "papermill": {
     "duration": 0.058009,
     "end_time": "2020-11-27T07:55:19.781240",
     "exception": false,
     "start_time": "2020-11-27T07:55:19.723231",
     "status": "completed"
    },
    "tags": []
   },
   "source": [
    "# 3. Analysing the sentiment of the review text"
   ]
  },
  {
   "cell_type": "markdown",
   "metadata": {
    "papermill": {
     "duration": 0.063987,
     "end_time": "2020-11-27T07:55:19.906514",
     "exception": false,
     "start_time": "2020-11-27T07:55:19.842527",
     "status": "completed"
    },
    "tags": []
   },
   "source": [
    "## 3.1 Review text and a new dataframe for NLP"
   ]
  },
  {
   "cell_type": "code",
   "execution_count": 8,
   "metadata": {
    "execution": {
     "iopub.execute_input": "2020-11-27T07:55:20.018124Z",
     "iopub.status.busy": "2020-11-27T07:55:20.016126Z",
     "iopub.status.idle": "2020-11-27T07:55:20.023882Z",
     "shell.execute_reply": "2020-11-27T07:55:20.023072Z"
    },
    "papermill": {
     "duration": 0.065049,
     "end_time": "2020-11-27T07:55:20.023997",
     "exception": false,
     "start_time": "2020-11-27T07:55:19.958948",
     "status": "completed"
    },
    "tags": []
   },
   "outputs": [
    {
     "data": {
      "text/plain": [
       "(22822,)"
      ]
     },
     "execution_count": 8,
     "metadata": {},
     "output_type": "execute_result"
    }
   ],
   "source": [
    "# Save the review text to a new list\n",
    "reviews_list = df['review_text'].copy()\n",
    "reviews_list.shape"
   ]
  },
  {
   "cell_type": "code",
   "execution_count": 9,
   "metadata": {
    "execution": {
     "iopub.execute_input": "2020-11-27T07:55:20.135356Z",
     "iopub.status.busy": "2020-11-27T07:55:20.134258Z",
     "iopub.status.idle": "2020-11-27T07:55:20.140583Z",
     "shell.execute_reply": "2020-11-27T07:55:20.140064Z"
    },
    "papermill": {
     "duration": 0.063408,
     "end_time": "2020-11-27T07:55:20.140730",
     "exception": false,
     "start_time": "2020-11-27T07:55:20.077322",
     "status": "completed"
    },
    "tags": []
   },
   "outputs": [],
   "source": [
    "# Copy for the sake of tackling the ambiguity\n",
    "df_nlp = df.copy()"
   ]
  },
  {
   "cell_type": "markdown",
   "metadata": {
    "papermill": {
     "duration": 0.03639,
     "end_time": "2020-11-27T07:55:20.213687",
     "exception": false,
     "start_time": "2020-11-27T07:55:20.177297",
     "status": "completed"
    },
    "tags": []
   },
   "source": [
    "## 3.2 Sentiment Analysis using VADER\n",
    "\n",
    "Sentiment analysis is the field of NLP that aims at understanding the sentiment of a certain portion of text. One of the best-known packages for sentiment analysis is the open-source package VADER, which is part of NLTK.\n",
    "\n",
    "VADER, acronym for Valence Aware Dictionary and sEntiment Reasoner, is a lexicon and rule-based sentiment analysis tool that is specifically attuned to sentiments expressed in social media.\n",
    "VADER is built on social media text but it is in general applicable to other domains, including customer reviews.\n",
    "VADER is based on a lexicon (vocabulary) that is validated by multiple human judges according to a well-defined and standard procedure. Each word in the lexicon is associated with a sentiment valence, consisting of two properties, polarity and intensity. The polarity describes if the text is positive/negative. The intensity describes how much the text is positive/negative, on a scale from -4 to 4. Words not included in the lexicon are classified as neutral.\n",
    "\n",
    "To evaluate the sentiment of a sentence or list of sentences, VADER looks for words in the text that are part of the lexicon, modifies the intensity and polarity of the identified words according to a series of rules, sums up these values and then normalises to the range [-1,1].\n",
    "VADER incorporates emojis (for example \":-)\"), acronyms (for example \"LOL\") and slang (for example \"nah\"). The algorithm differs from a Bag of Words approach as it takes words order and degree modifiers into account, e.g. by increasing/decreasing the intensity of the sentiment.\n",
    "For example, the sentences:\n",
    "\n",
    "* \"I liked Forrest Gump.\"\n",
    "* \"I really liked Forrest Gump.\"\n",
    "* \"Forrest Gump is a GREAT movie.\"\n",
    "* \"Forrest Gump is perhaps the GREATEST movie ever!\"\n",
    "* \"Forrest Gump is one of the GREATEST movie of all time! :)\"\n",
    "\n",
    "    would have an increasing intensity, triggered by degree modifiers.\n",
    "   \n",
    "The output of the sentiment analysis is a series of scores, namely \"compound\", \"pos\", \"neu\" and \"neg\".\n",
    "The compound score is normalized between -1 (extremely negative) and 1 (extremely positive) and is a good metric if we need a single value that summarises the sentiment of a given sentence. The compound score can also be used to classify sentences into positive, neutral and negative by setting an appropriate threshold on the compound score. The official recommended threshold is:\n",
    "\n",
    "* positive sentiment, compound score >= 0.05\n",
    "* neutral sentiment, compound score <= 0.05 and >= -0.05\n",
    "* negative sentiment, compound score <= -0.05\n",
    "\n",
    "The positive, neutral and negative scores represent the fraction of the sentence that has a positive, neutral and negative sentiment. The sum of these three scores should sum up to 1. The positive, neutral and negative scores are a good metric if we need multiple values that summarise the sentiment of a given sentence."
   ]
  },
  {
   "cell_type": "code",
   "execution_count": 10,
   "metadata": {
    "execution": {
     "iopub.execute_input": "2020-11-27T07:55:20.304905Z",
     "iopub.status.busy": "2020-11-27T07:55:20.304276Z",
     "iopub.status.idle": "2020-11-27T07:55:20.482450Z",
     "shell.execute_reply": "2020-11-27T07:55:20.483024Z"
    },
    "papermill": {
     "duration": 0.233907,
     "end_time": "2020-11-27T07:55:20.483157",
     "exception": false,
     "start_time": "2020-11-27T07:55:20.249250",
     "status": "completed"
    },
    "tags": []
   },
   "outputs": [
    {
     "name": "stdout",
     "output_type": "stream",
     "text": [
      "[nltk_data] Downloading package punkt to /usr/share/nltk_data...\n",
      "[nltk_data]   Package punkt is already up-to-date!\n",
      "[nltk_data] Downloading package vader_lexicon to\n",
      "[nltk_data]     /usr/share/nltk_data...\n",
      "[nltk_data]   Package vader_lexicon is already up-to-date!\n"
     ]
    },
    {
     "data": {
      "text/plain": [
       "True"
      ]
     },
     "execution_count": 10,
     "metadata": {},
     "output_type": "execute_result"
    }
   ],
   "source": [
    "nltk.download('punkt')\n",
    "nltk.download('vader_lexicon')"
   ]
  },
  {
   "cell_type": "code",
   "execution_count": 11,
   "metadata": {
    "execution": {
     "iopub.execute_input": "2020-11-27T07:55:20.561809Z",
     "iopub.status.busy": "2020-11-27T07:55:20.560934Z",
     "iopub.status.idle": "2020-11-27T07:55:20.580162Z",
     "shell.execute_reply": "2020-11-27T07:55:20.580640Z"
    },
    "papermill": {
     "duration": 0.061185,
     "end_time": "2020-11-27T07:55:20.580833",
     "exception": false,
     "start_time": "2020-11-27T07:55:20.519648",
     "status": "completed"
    },
    "tags": []
   },
   "outputs": [],
   "source": [
    "sid = SentimentIntensityAnalyzer()"
   ]
  },
  {
   "cell_type": "code",
   "execution_count": 12,
   "metadata": {
    "execution": {
     "iopub.execute_input": "2020-11-27T07:55:20.674101Z",
     "iopub.status.busy": "2020-11-27T07:55:20.673439Z",
     "iopub.status.idle": "2020-11-27T07:55:20.676788Z",
     "shell.execute_reply": "2020-11-27T07:55:20.676151Z"
    },
    "papermill": {
     "duration": 0.047317,
     "end_time": "2020-11-27T07:55:20.676890",
     "exception": false,
     "start_time": "2020-11-27T07:55:20.629573",
     "status": "completed"
    },
    "tags": []
   },
   "outputs": [
    {
     "name": "stdout",
     "output_type": "stream",
     "text": [
      "{'neg': 0.0, 'neu': 0.417, 'pos': 0.583, 'compound': 0.4215}\n",
      "{'neg': 0.0, 'neu': 0.492, 'pos': 0.508, 'compound': 0.4754}\n",
      "{'neg': 0.0, 'neu': 0.453, 'pos': 0.547, 'compound': 0.7034}\n",
      "{'neg': 0.0, 'neu': 0.573, 'pos': 0.427, 'compound': 0.7371}\n",
      "{'neg': 0.0, 'neu': 0.549, 'pos': 0.451, 'compound': 0.8491}\n"
     ]
    }
   ],
   "source": [
    "# Example of VADER sentiment analyzer on different intensity sentences.\n",
    "print(sid.polarity_scores(\"I liked Forrest Gump.\"))\n",
    "print(sid.polarity_scores(\"I really liked Forrest Gump.\"))\n",
    "print(sid.polarity_scores(\"Forrest Gump is a GREAT movie.\"))\n",
    "print(sid.polarity_scores(\"Forrest Gump is perhaps the GREATEST movie ever!\"))\n",
    "print(sid.polarity_scores(\"Forrest Gump is one of the GREATEST movie of all time! :)\"))"
   ]
  },
  {
   "cell_type": "code",
   "execution_count": 13,
   "metadata": {
    "execution": {
     "iopub.execute_input": "2020-11-27T07:55:20.758536Z",
     "iopub.status.busy": "2020-11-27T07:55:20.757928Z",
     "iopub.status.idle": "2020-11-27T07:55:20.773923Z",
     "shell.execute_reply": "2020-11-27T07:55:20.773291Z"
    },
    "papermill": {
     "duration": 0.058733,
     "end_time": "2020-11-27T07:55:20.774026",
     "exception": false,
     "start_time": "2020-11-27T07:55:20.715293",
     "status": "completed"
    },
    "tags": []
   },
   "outputs": [
    {
     "name": "stdout",
     "output_type": "stream",
     "text": [
      "[' First time Iâ€™d flown TK.', 'I found them very good in the air, cabin crew, planes, food, all very nice.', 'Not so great on the ground, ground staff, call centre, computer systems.', 'My flight from LHR was delayed so I missed the connection in Istanbul.', 'Most ground staff donâ€™t speak English, and I was given contradictory instructions from those that could speak a little English.', 'I eventually got on a flight to Izmir three hours later, but it wasnâ€™t an easy process, made worse by the vast distances one has to walk between gates in the cavernous new airport.', 'Also, Iâ€™d phoned a TK call centre (based in Ukraine) to pay an extra Â£40 or so each way for extra leg room seats.', 'However, as the departure times kept changing, my seats kept changing, and for the return leg to London from Istanbul I was not given an extra leg room seat.', 'Luckily there was a spare exit row seat and the cabin crew sorted me out.', 'Overall, I think their cabin crew and planes are very good, ground staff and call centre staff need better training and they all need better computer systems and software to work with.']\n"
     ]
    }
   ],
   "source": [
    "review = reviews_list[0]\n",
    "review_tok = tokenize.sent_tokenize(review)\n",
    "print(review_tok)"
   ]
  },
  {
   "cell_type": "code",
   "execution_count": 14,
   "metadata": {
    "execution": {
     "iopub.execute_input": "2020-11-27T07:55:20.861072Z",
     "iopub.status.busy": "2020-11-27T07:55:20.860309Z",
     "iopub.status.idle": "2020-11-27T07:55:20.865677Z",
     "shell.execute_reply": "2020-11-27T07:55:20.864983Z"
    },
    "papermill": {
     "duration": 0.05309,
     "end_time": "2020-11-27T07:55:20.865806",
     "exception": false,
     "start_time": "2020-11-27T07:55:20.812716",
     "status": "completed"
    },
    "tags": []
   },
   "outputs": [
    {
     "name": "stdout",
     "output_type": "stream",
     "text": [
      "Review text:\n",
      " First time Iâ€™d flown TK. I found them very good in the air, cabin crew, planes, food, all very nice. Not so great on the ground, ground staff, call centre, computer systems. My flight from LHR was delayed so I missed the connection in Istanbul. Most ground staff donâ€™t speak English, and I was given contradictory instructions from those that could speak a little English. I eventually got on a flight to Izmir three hours later, but it wasnâ€™t an easy process, made worse by the vast distances one has to walk between gates in the cavernous new airport. Also, Iâ€™d phoned a TK call centre (based in Ukraine) to pay an extra Â£40 or so each way for extra leg room seats. However, as the departure times kept changing, my seats kept changing, and for the return leg to London from Istanbul I was not given an extra leg room seat. Luckily there was a spare exit row seat and the cabin crew sorted me out. Overall, I think their cabin crew and planes are very good, ground staff and call centre staff need better training and they all need better computer systems and software to work with.\n",
      "compound: 0.9601, neg: 0.051, neu: 0.823, pos: 0.127, \n",
      "\n"
     ]
    }
   ],
   "source": [
    "# Example of VADER sentiment analyzer on first review of our dataset\n",
    "print('Review text:')\n",
    "print(review)\n",
    "\n",
    "review_polarity_scores = sid.polarity_scores(review)\n",
    "\n",
    "for key in sorted(review_polarity_scores.keys()):\n",
    "    print('{}: {}, '.format(key,review_polarity_scores[key]), end='')\n",
    "print('\\n')"
   ]
  },
  {
   "cell_type": "code",
   "execution_count": 15,
   "metadata": {
    "execution": {
     "iopub.execute_input": "2020-11-27T07:55:20.991302Z",
     "iopub.status.busy": "2020-11-27T07:55:20.990234Z",
     "iopub.status.idle": "2020-11-27T07:55:21.013682Z",
     "shell.execute_reply": "2020-11-27T07:55:21.013007Z"
    },
    "papermill": {
     "duration": 0.089321,
     "end_time": "2020-11-27T07:55:21.013803",
     "exception": false,
     "start_time": "2020-11-27T07:55:20.924482",
     "status": "completed"
    },
    "tags": []
   },
   "outputs": [
    {
     "name": "stdout",
     "output_type": "stream",
     "text": [
      "Sentence text:\n",
      " First time Iâ€™d flown TK.\n",
      "compound: 0.0, neg: 0.0, neu: 1.0, pos: 0.0, \n",
      "\n",
      "Sentence text:\n",
      "I found them very good in the air, cabin crew, planes, food, all very nice.\n",
      "compound: 0.742, neg: 0.0, neu: 0.656, pos: 0.344, \n",
      "\n",
      "Sentence text:\n",
      "Not so great on the ground, ground staff, call centre, computer systems.\n",
      "compound: 0.659, neg: 0.0, neu: 0.715, pos: 0.285, \n",
      "\n",
      "Sentence text:\n",
      "My flight from LHR was delayed so I missed the connection in Istanbul.\n",
      "compound: -0.5812, neg: 0.323, neu: 0.677, pos: 0.0, \n",
      "\n",
      "Sentence text:\n",
      "Most ground staff donâ€™t speak English, and I was given contradictory instructions from those that could speak a little English.\n",
      "compound: -0.34, neg: 0.124, neu: 0.876, pos: 0.0, \n",
      "\n",
      "Sentence text:\n",
      "I eventually got on a flight to Izmir three hours later, but it wasnâ€™t an easy process, made worse by the vast distances one has to walk between gates in the cavernous new airport.\n",
      "compound: -0.0772, neg: 0.109, neu: 0.789, pos: 0.101, \n",
      "\n",
      "Sentence text:\n",
      "Also, Iâ€™d phoned a TK call centre (based in Ukraine) to pay an extra Â£40 or so each way for extra leg room seats.\n",
      "compound: -0.1027, neg: 0.06, neu: 0.94, pos: 0.0, \n",
      "\n",
      "Sentence text:\n",
      "However, as the departure times kept changing, my seats kept changing, and for the return leg to London from Istanbul I was not given an extra leg room seat.\n",
      "compound: 0.0, neg: 0.0, neu: 1.0, pos: 0.0, \n",
      "\n",
      "Sentence text:\n",
      "Luckily there was a spare exit row seat and the cabin crew sorted me out.\n",
      "compound: 0.5106, neg: 0.0, neu: 0.798, pos: 0.202, \n",
      "\n",
      "Sentence text:\n",
      "Overall, I think their cabin crew and planes are very good, ground staff and call centre staff need better training and they all need better computer systems and software to work with.\n",
      "compound: 0.8399, neg: 0.0, neu: 0.757, pos: 0.243, \n",
      "\n"
     ]
    }
   ],
   "source": [
    "# Example on a sentence level.\n",
    "\n",
    "# print('Review text:')\n",
    "# print(review_tok)\n",
    "\n",
    "for sentence in review_tok:\n",
    "    print('Sentence text:')\n",
    "    print(sentence)\n",
    "    sentence_polarity_scores = sid.polarity_scores(sentence)\n",
    "\n",
    "    for key in sorted(sentence_polarity_scores.keys()):\n",
    "        print('{}: {}, '.format(key,sentence_polarity_scores[key]), end='')\n",
    "    print('\\n')"
   ]
  },
  {
   "cell_type": "code",
   "execution_count": 16,
   "metadata": {
    "execution": {
     "iopub.execute_input": "2020-11-27T07:55:21.124233Z",
     "iopub.status.busy": "2020-11-27T07:55:21.119298Z",
     "iopub.status.idle": "2020-11-27T07:56:39.807367Z",
     "shell.execute_reply": "2020-11-27T07:56:39.806821Z"
    },
    "papermill": {
     "duration": 78.753143,
     "end_time": "2020-11-27T07:56:39.807483",
     "exception": false,
     "start_time": "2020-11-27T07:55:21.054340",
     "status": "completed"
    },
    "tags": []
   },
   "outputs": [],
   "source": [
    "# Augment the dataset with the overall polarity score of the review, as obtained using VADER on the review level.\n",
    "reviews_polarity = []\n",
    "\n",
    "for i_review, review in enumerate(reviews_list):\n",
    "    # print('Review text:')\n",
    "    # print(review)\n",
    "\n",
    "    review_polarity_scores = sid.polarity_scores(review)\n",
    "    review_polarity_score_compound = review_polarity_scores['compound']\n",
    "    \n",
    "    '''Uncomment this to print the sentiment score of every review in the dataset.\n",
    "    \n",
    "    print('Review #{:d}: '.format(i_review), end='')\n",
    "    for key in sorted(review_polarity_scores.keys()):\n",
    "        print('{}: {:.4f}, '.format(key,review_polarity_scores[key]), end='')\n",
    "    print('')  '''\n",
    "    \n",
    "    reviews_polarity.append(review_polarity_score_compound)\n",
    "\n",
    "# print(reviews_polarity)"
   ]
  },
  {
   "cell_type": "code",
   "execution_count": 17,
   "metadata": {
    "execution": {
     "iopub.execute_input": "2020-11-27T07:56:39.939404Z",
     "iopub.status.busy": "2020-11-27T07:56:39.938578Z",
     "iopub.status.idle": "2020-11-27T07:56:39.943952Z",
     "shell.execute_reply": "2020-11-27T07:56:39.943300Z"
    },
    "papermill": {
     "duration": 0.0962,
     "end_time": "2020-11-27T07:56:39.944055",
     "exception": false,
     "start_time": "2020-11-27T07:56:39.847855",
     "status": "completed"
    },
    "tags": []
   },
   "outputs": [
    {
     "data": {
      "text/html": [
       "<div>\n",
       "<style scoped>\n",
       "    .dataframe tbody tr th:only-of-type {\n",
       "        vertical-align: middle;\n",
       "    }\n",
       "\n",
       "    .dataframe tbody tr th {\n",
       "        vertical-align: top;\n",
       "    }\n",
       "\n",
       "    .dataframe thead th {\n",
       "        text-align: right;\n",
       "    }\n",
       "</style>\n",
       "<table border=\"1\" class=\"dataframe\">\n",
       "  <thead>\n",
       "    <tr style=\"text-align: right;\">\n",
       "      <th></th>\n",
       "      <th>airline</th>\n",
       "      <th>review_score</th>\n",
       "      <th>traveller_type</th>\n",
       "      <th>cabin</th>\n",
       "      <th>seat_comfort</th>\n",
       "      <th>cabin_service</th>\n",
       "      <th>food_bev</th>\n",
       "      <th>entertainment</th>\n",
       "      <th>ground_service</th>\n",
       "      <th>value_for_money</th>\n",
       "      <th>...</th>\n",
       "      <th>review_date_year</th>\n",
       "      <th>date_flown_day</th>\n",
       "      <th>date_flown_month</th>\n",
       "      <th>date_flown_year</th>\n",
       "      <th>review_date_date_flown_distance_days</th>\n",
       "      <th>review_characters</th>\n",
       "      <th>pos_neu_neg_review_score</th>\n",
       "      <th>has_layover</th>\n",
       "      <th>recommended</th>\n",
       "      <th>polarity</th>\n",
       "    </tr>\n",
       "  </thead>\n",
       "  <tbody>\n",
       "    <tr>\n",
       "      <th>0</th>\n",
       "      <td>Turkish Airlines</td>\n",
       "      <td>7</td>\n",
       "      <td>Business</td>\n",
       "      <td>Economy Class</td>\n",
       "      <td>4</td>\n",
       "      <td>5</td>\n",
       "      <td>4</td>\n",
       "      <td>4</td>\n",
       "      <td>2</td>\n",
       "      <td>4</td>\n",
       "      <td>...</td>\n",
       "      <td>2019.0</td>\n",
       "      <td>1.0</td>\n",
       "      <td>5.0</td>\n",
       "      <td>2019.0</td>\n",
       "      <td>7.0</td>\n",
       "      <td>1094</td>\n",
       "      <td>pos</td>\n",
       "      <td>True</td>\n",
       "      <td>True</td>\n",
       "      <td>0.9601</td>\n",
       "    </tr>\n",
       "    <tr>\n",
       "      <th>1</th>\n",
       "      <td>Turkish Airlines</td>\n",
       "      <td>2</td>\n",
       "      <td>Family Leisure</td>\n",
       "      <td>Economy Class</td>\n",
       "      <td>4</td>\n",
       "      <td>1</td>\n",
       "      <td>1</td>\n",
       "      <td>1</td>\n",
       "      <td>1</td>\n",
       "      <td>1</td>\n",
       "      <td>...</td>\n",
       "      <td>2019.0</td>\n",
       "      <td>1.0</td>\n",
       "      <td>5.0</td>\n",
       "      <td>2019.0</td>\n",
       "      <td>6.0</td>\n",
       "      <td>425</td>\n",
       "      <td>neg</td>\n",
       "      <td>False</td>\n",
       "      <td>False</td>\n",
       "      <td>0.2732</td>\n",
       "    </tr>\n",
       "    <tr>\n",
       "      <th>2</th>\n",
       "      <td>Turkish Airlines</td>\n",
       "      <td>3</td>\n",
       "      <td>Business</td>\n",
       "      <td>Economy Class</td>\n",
       "      <td>1</td>\n",
       "      <td>4</td>\n",
       "      <td>1</td>\n",
       "      <td>3</td>\n",
       "      <td>1</td>\n",
       "      <td>2</td>\n",
       "      <td>...</td>\n",
       "      <td>2019.0</td>\n",
       "      <td>1.0</td>\n",
       "      <td>5.0</td>\n",
       "      <td>2019.0</td>\n",
       "      <td>6.0</td>\n",
       "      <td>1597</td>\n",
       "      <td>neg</td>\n",
       "      <td>True</td>\n",
       "      <td>False</td>\n",
       "      <td>-0.9483</td>\n",
       "    </tr>\n",
       "    <tr>\n",
       "      <th>3</th>\n",
       "      <td>Turkish Airlines</td>\n",
       "      <td>10</td>\n",
       "      <td>Solo Leisure</td>\n",
       "      <td>Economy Class</td>\n",
       "      <td>4</td>\n",
       "      <td>5</td>\n",
       "      <td>5</td>\n",
       "      <td>5</td>\n",
       "      <td>5</td>\n",
       "      <td>5</td>\n",
       "      <td>...</td>\n",
       "      <td>2019.0</td>\n",
       "      <td>23.0</td>\n",
       "      <td>4.0</td>\n",
       "      <td>2019.0</td>\n",
       "      <td>13.0</td>\n",
       "      <td>875</td>\n",
       "      <td>pos</td>\n",
       "      <td>False</td>\n",
       "      <td>True</td>\n",
       "      <td>0.9764</td>\n",
       "    </tr>\n",
       "    <tr>\n",
       "      <th>4</th>\n",
       "      <td>Turkish Airlines</td>\n",
       "      <td>1</td>\n",
       "      <td>Solo Leisure</td>\n",
       "      <td>Economy Class</td>\n",
       "      <td>1</td>\n",
       "      <td>1</td>\n",
       "      <td>1</td>\n",
       "      <td>1</td>\n",
       "      <td>1</td>\n",
       "      <td>1</td>\n",
       "      <td>...</td>\n",
       "      <td>2019.0</td>\n",
       "      <td>1.0</td>\n",
       "      <td>5.0</td>\n",
       "      <td>2019.0</td>\n",
       "      <td>5.0</td>\n",
       "      <td>366</td>\n",
       "      <td>neg</td>\n",
       "      <td>True</td>\n",
       "      <td>False</td>\n",
       "      <td>-0.7599</td>\n",
       "    </tr>\n",
       "  </tbody>\n",
       "</table>\n",
       "<p>5 rows × 23 columns</p>\n",
       "</div>"
      ],
      "text/plain": [
       "            airline  review_score  traveller_type          cabin  \\\n",
       "0  Turkish Airlines             7        Business  Economy Class   \n",
       "1  Turkish Airlines             2  Family Leisure  Economy Class   \n",
       "2  Turkish Airlines             3        Business  Economy Class   \n",
       "3  Turkish Airlines            10    Solo Leisure  Economy Class   \n",
       "4  Turkish Airlines             1    Solo Leisure  Economy Class   \n",
       "\n",
       "   seat_comfort  cabin_service  food_bev  entertainment  ground_service  \\\n",
       "0             4              5         4              4               2   \n",
       "1             4              1         1              1               1   \n",
       "2             1              4         1              3               1   \n",
       "3             4              5         5              5               5   \n",
       "4             1              1         1              1               1   \n",
       "\n",
       "   value_for_money  ... review_date_year  date_flown_day  date_flown_month  \\\n",
       "0                4  ...           2019.0             1.0               5.0   \n",
       "1                1  ...           2019.0             1.0               5.0   \n",
       "2                2  ...           2019.0             1.0               5.0   \n",
       "3                5  ...           2019.0            23.0               4.0   \n",
       "4                1  ...           2019.0             1.0               5.0   \n",
       "\n",
       "   date_flown_year  review_date_date_flown_distance_days  review_characters  \\\n",
       "0           2019.0                                   7.0               1094   \n",
       "1           2019.0                                   6.0                425   \n",
       "2           2019.0                                   6.0               1597   \n",
       "3           2019.0                                  13.0                875   \n",
       "4           2019.0                                   5.0                366   \n",
       "\n",
       "   pos_neu_neg_review_score  has_layover  recommended polarity  \n",
       "0                       pos         True         True   0.9601  \n",
       "1                       neg        False        False   0.2732  \n",
       "2                       neg         True        False  -0.9483  \n",
       "3                       pos        False         True   0.9764  \n",
       "4                       neg         True        False  -0.7599  \n",
       "\n",
       "[5 rows x 23 columns]"
      ]
     },
     "execution_count": 17,
     "metadata": {},
     "output_type": "execute_result"
    }
   ],
   "source": [
    "df_nlp['polarity'] = reviews_polarity\n",
    "df_nlp.head()"
   ]
  },
  {
   "cell_type": "markdown",
   "metadata": {
    "papermill": {
     "duration": 0.040298,
     "end_time": "2020-11-27T07:56:40.028012",
     "exception": false,
     "start_time": "2020-11-27T07:56:39.987714",
     "status": "completed"
    },
    "tags": []
   },
   "source": [
    "## 3.3 Plotting the correlation between Polarity and Recommendation"
   ]
  },
  {
   "cell_type": "code",
   "execution_count": 18,
   "metadata": {
    "execution": {
     "iopub.execute_input": "2020-11-27T07:56:40.115076Z",
     "iopub.status.busy": "2020-11-27T07:56:40.114224Z",
     "iopub.status.idle": "2020-11-27T07:56:40.144947Z",
     "shell.execute_reply": "2020-11-27T07:56:40.144068Z"
    },
    "papermill": {
     "duration": 0.077062,
     "end_time": "2020-11-27T07:56:40.145081",
     "exception": false,
     "start_time": "2020-11-27T07:56:40.068019",
     "status": "completed"
    },
    "tags": []
   },
   "outputs": [],
   "source": [
    "corr_values = df_nlp[['polarity','recommended']].dropna(axis=0,how='any').corr()"
   ]
  },
  {
   "cell_type": "code",
   "execution_count": 19,
   "metadata": {
    "_kg_hide-input": true,
    "execution": {
     "iopub.execute_input": "2020-11-27T07:56:40.276903Z",
     "iopub.status.busy": "2020-11-27T07:56:40.276067Z",
     "iopub.status.idle": "2020-11-27T07:56:40.563883Z",
     "shell.execute_reply": "2020-11-27T07:56:40.563365Z"
    },
    "papermill": {
     "duration": 0.357438,
     "end_time": "2020-11-27T07:56:40.563990",
     "exception": false,
     "start_time": "2020-11-27T07:56:40.206552",
     "status": "completed"
    },
    "tags": []
   },
   "outputs": [
    {
     "data": {
      "image/png": "[encoded data removed]",
      "text/plain": [
       "<Figure size 288x288 with 2 Axes>"
      ]
     },
     "metadata": {
      "needs_background": "light"
     },
     "output_type": "display_data"
    },
    {
     "data": {
      "text/plain": [
       "<matplotlib.colors.LinearSegmentedColormap at 0x7f972baea6d0>"
      ]
     },
     "execution_count": 19,
     "metadata": {},
     "output_type": "execute_result"
    }
   ],
   "source": [
    "def plot_cmap(matrix_values, figsize_w, figsize_h, filename):\n",
    "    \"\"\"\n",
    "    Plot a heatmap corresponding to the input values.\n",
    "    \"\"\"\n",
    "    if figsize_w is not None and figsize_h is not None:\n",
    "        plt.figure(figsize=(figsize_w,figsize_h))\n",
    "    else:\n",
    "        plt.figure()\n",
    "    cmap = sns.diverging_palette(240, 10, sep=20, as_cmap=True)\n",
    "    sns.heatmap(matrix_values, annot=True, fmt=\".2f\", cmap=cmap, vmin=-1, vmax=1)\n",
    "    plt.savefig(filename)\n",
    "    plt.show()\n",
    "    return cmap\n",
    "\n",
    "plot_cmap(matrix_values=corr_values, \n",
    "          figsize_w=4, \n",
    "          figsize_h=4,\n",
    "          filename='./Corr.png')"
   ]
  },
  {
   "cell_type": "markdown",
   "metadata": {
    "papermill": {
     "duration": 0.041266,
     "end_time": "2020-11-27T07:56:40.648549",
     "exception": false,
     "start_time": "2020-11-27T07:56:40.607283",
     "status": "completed"
    },
    "tags": []
   },
   "source": [
    "## 3.4 Plotting comparison of histograms for positive and negative customer reviews"
   ]
  },
  {
   "cell_type": "code",
   "execution_count": 20,
   "metadata": {
    "_kg_hide-input": true,
    "execution": {
     "iopub.execute_input": "2020-11-27T07:56:40.743912Z",
     "iopub.status.busy": "2020-11-27T07:56:40.740585Z",
     "iopub.status.idle": "2020-11-27T07:56:41.222612Z",
     "shell.execute_reply": "2020-11-27T07:56:41.222106Z"
    },
    "papermill": {
     "duration": 0.532481,
     "end_time": "2020-11-27T07:56:41.222746",
     "exception": false,
     "start_time": "2020-11-27T07:56:40.690265",
     "status": "completed"
    },
    "tags": []
   },
   "outputs": [
    {
     "data": {
      "image/png": "[encoded data removed]",
      "text/plain": [
       "<Figure size 432x432 with 1 Axes>"
      ]
     },
     "metadata": {
      "needs_background": "light"
     },
     "output_type": "display_data"
    }
   ],
   "source": [
    "def plot_two_hists_comp_sns(df_1,df_2,label_1,label_2,feat,bins,title,x_label,y_label,filename):\n",
    "    \"\"\"\n",
    "    Plot two histograms of a given feature in two different datasets.\n",
    "    \"\"\"\n",
    "    plt.figure(figsize=(6,6))\n",
    "    sns.distplot(df_1[feat],hist=True,norm_hist=True,kde=False,label=label_1,bins=bins)\n",
    "    sns.distplot(df_2[feat],hist=True,norm_hist=True,kde=False,label=label_2,bins=bins)\n",
    "    plt.title(title)\n",
    "    plt.xlabel(x_label)\n",
    "    plt.ylabel(y_label)\n",
    "    plt.grid(False)\n",
    "    plt.legend(loc='best')\n",
    "    plt.savefig(filename)\n",
    "    plt.show()\n",
    "    return\n",
    "\n",
    "plot_two_hists_comp_sns(df_1=df_nlp[df_nlp['recommended']==True],\n",
    "                        df_2=df_nlp[df_nlp['recommended']==False],\n",
    "                        label_1='recommended',\n",
    "                        label_2='not recommended',\n",
    "                        feat='polarity',\n",
    "                        bins=30,\n",
    "                        title='Distribution of all customer reviews',\n",
    "                        x_label='Polarity',\n",
    "                        y_label='Entries / bin',\n",
    "                        filename='./HistPolarityByRecommendation.png')"
   ]
  },
  {
   "cell_type": "markdown",
   "metadata": {
    "papermill": {
     "duration": 0.041764,
     "end_time": "2020-11-27T07:56:41.306595",
     "exception": false,
     "start_time": "2020-11-27T07:56:41.264831",
     "status": "completed"
    },
    "tags": []
   },
   "source": [
    "## 3.5 Preprocess review text"
   ]
  },
  {
   "cell_type": "code",
   "execution_count": 21,
   "metadata": {
    "execution": {
     "iopub.execute_input": "2020-11-27T07:56:41.395959Z",
     "iopub.status.busy": "2020-11-27T07:56:41.395256Z",
     "iopub.status.idle": "2020-11-27T07:56:41.480508Z",
     "shell.execute_reply": "2020-11-27T07:56:41.479881Z"
    },
    "papermill": {
     "duration": 0.131861,
     "end_time": "2020-11-27T07:56:41.480620",
     "exception": false,
     "start_time": "2020-11-27T07:56:41.348759",
     "status": "completed"
    },
    "tags": []
   },
   "outputs": [
    {
     "name": "stdout",
     "output_type": "stream",
     "text": [
      "[nltk_data] Downloading package stopwords to /usr/share/nltk_data...\n",
      "[nltk_data]   Package stopwords is already up-to-date!\n",
      "[nltk_data] Downloading package wordnet to /usr/share/nltk_data...\n",
      "[nltk_data]   Package wordnet is already up-to-date!\n",
      "[nltk_data] Downloading package averaged_perceptron_tagger to\n",
      "[nltk_data]     /usr/share/nltk_data...\n",
      "[nltk_data]   Package averaged_perceptron_tagger is already up-to-\n",
      "[nltk_data]       date!\n"
     ]
    },
    {
     "data": {
      "text/plain": [
       "True"
      ]
     },
     "execution_count": 21,
     "metadata": {},
     "output_type": "execute_result"
    }
   ],
   "source": [
    "nltk.download('stopwords')\n",
    "nltk.download('wordnet')\n",
    "nltk.download('averaged_perceptron_tagger')"
   ]
  },
  {
   "cell_type": "markdown",
   "metadata": {
    "papermill": {
     "duration": 0.043424,
     "end_time": "2020-11-27T07:56:41.568462",
     "exception": false,
     "start_time": "2020-11-27T07:56:41.525038",
     "status": "completed"
    },
    "tags": []
   },
   "source": [
    "### 3.5.1 Handling stopwords"
   ]
  },
  {
   "cell_type": "code",
   "execution_count": 22,
   "metadata": {
    "execution": {
     "iopub.execute_input": "2020-11-27T07:56:41.689495Z",
     "iopub.status.busy": "2020-11-27T07:56:41.684856Z",
     "iopub.status.idle": "2020-11-27T07:56:41.696561Z",
     "shell.execute_reply": "2020-11-27T07:56:41.696020Z"
    },
    "papermill": {
     "duration": 0.083874,
     "end_time": "2020-11-27T07:56:41.696699",
     "exception": false,
     "start_time": "2020-11-27T07:56:41.612825",
     "status": "completed"
    },
    "tags": []
   },
   "outputs": [],
   "source": [
    "# Stop words.\n",
    "# Airlines appearing in the dataset. This is the official name of the airlines. These words should be removed from the review text.\n",
    "airlines_lower = df_nlp['airline'].str.lower().unique().tolist()\n",
    "# Words appearing in the official name of the airlines. These words should be removed from the review text.\n",
    "airlines_identifier = ['airlines',\n",
    "                       'air lines',\n",
    "                       'airline',\n",
    "                       'air line',\n",
    "                       'airways',\n",
    "                       'air']\n",
    "# In addition to the official name of the airlines, customers can use shortened versions of this name.\n",
    "airlines_informal_lower = []\n",
    "for airline in airlines_lower:\n",
    "    found = False\n",
    "    for airline_identifier in airlines_identifier:\n",
    "        if found == False:\n",
    "            if str(' '+airline_identifier) in airline:\n",
    "                airline_informal = airline.replace(str(' '+airline_identifier),'')\n",
    "                airlines_informal_lower.append(airline_informal)\n",
    "                found = True\n",
    "# Other stop words.\n",
    "additional_stopwords = ['one','get','also','however','even','make']"
   ]
  },
  {
   "cell_type": "code",
   "execution_count": 23,
   "metadata": {
    "execution": {
     "iopub.execute_input": "2020-11-27T07:56:41.790616Z",
     "iopub.status.busy": "2020-11-27T07:56:41.790028Z",
     "iopub.status.idle": "2020-11-27T07:56:41.798831Z",
     "shell.execute_reply": "2020-11-27T07:56:41.798314Z"
    },
    "papermill": {
     "duration": 0.05851,
     "end_time": "2020-11-27T07:56:41.798946",
     "exception": false,
     "start_time": "2020-11-27T07:56:41.740436",
     "status": "completed"
    },
    "tags": []
   },
   "outputs": [
    {
     "name": "stdout",
     "output_type": "stream",
     "text": [
      "Number of stopwords in NLTK: 179\n",
      "Number of stopwords after extension: 318\n"
     ]
    }
   ],
   "source": [
    "nltk_stopwords = stopwords.words('english')\n",
    "nltk_stopwords_extended = nltk_stopwords + airlines_lower + airlines_identifier + airlines_informal_lower + additional_stopwords\n",
    "print('Number of stopwords in NLTK: {:d}'.format(len(nltk_stopwords)))\n",
    "print('Number of stopwords after extension: {:d}'.format(len(nltk_stopwords_extended)))"
   ]
  },
  {
   "cell_type": "markdown",
   "metadata": {
    "papermill": {
     "duration": 0.043841,
     "end_time": "2020-11-27T07:56:41.886947",
     "exception": false,
     "start_time": "2020-11-27T07:56:41.843106",
     "status": "completed"
    },
    "tags": []
   },
   "source": [
    "### 3.5.2 Handling the cases & punctuation; tokenizing & lemmatizing the text; assign POS tagging\n",
    "\n",
    "First of all, convert all characters in the review text to lower case.\n",
    "\n",
    "After that, remove the punctuation and tokenize each customer review into a list of individual words.\n",
    "\n",
    "As a next step, select only those words in the review text that could be relevant to solve the problem at hand. In particular, all stop words should be filtered out as they do not affect the meaning of the sentence.\n",
    "\n",
    "Then, proceed to POS tagging, which allows to identify the role of each word in the sentence, according to the categories noun, verb, adjective, adverb and others. This is needed for a correct lemmatization of the words in the review text.\n",
    "\n",
    "The lemmatization consists in bringing the words to their \"standard\" form, e.g. to convert \"wrote\" to \"write\" or \"writing\" to write."
   ]
  },
  {
   "cell_type": "code",
   "execution_count": 24,
   "metadata": {
    "execution": {
     "iopub.execute_input": "2020-11-27T07:56:41.989276Z",
     "iopub.status.busy": "2020-11-27T07:56:41.984060Z",
     "iopub.status.idle": "2020-11-27T07:56:41.993774Z",
     "shell.execute_reply": "2020-11-27T07:56:41.993069Z"
    },
    "papermill": {
     "duration": 0.06244,
     "end_time": "2020-11-27T07:56:41.993912",
     "exception": false,
     "start_time": "2020-11-27T07:56:41.931472",
     "status": "completed"
    },
    "tags": []
   },
   "outputs": [],
   "source": [
    "def get_wordnet_pos(pos_tag):\n",
    "    if pos_tag.startswith('J'):\n",
    "        return wordnet.ADJ\n",
    "    elif pos_tag.startswith('V'):\n",
    "        return wordnet.VERB\n",
    "    elif pos_tag.startswith('N'):\n",
    "        return wordnet.NOUN\n",
    "    elif pos_tag.startswith('R'):\n",
    "        return wordnet.ADV\n",
    "    else:\n",
    "        return wordnet.NOUN\n",
    "\n",
    "def text_cleaner(text):\n",
    "    # Transform the text so that all words are lower case.\n",
    "    # print(text)\n",
    "    text = text.lower()\n",
    "    # Remove stop words corresponding to airlines. This is needed here as airline names can consist of multiple words and will not be removed after splitting by words.\n",
    "    # print(text)\n",
    "    for airline_lower in airlines_lower:\n",
    "        text = text.replace(airline_lower, '')\n",
    "    # Remove punctuation and tokenize the text into individual words.\n",
    "    # print(text)\n",
    "    text = [word.strip(string.punctuation) for word in text.split(\" \")]\n",
    "    # Remove words that contain numbers.\n",
    "    # print(text)\n",
    "    text = [word for word in text if not any(c.isdigit() for c in word)]\n",
    "    # Remove stop words.\n",
    "    # print(text)\n",
    "    text = [word for word in text if word not in nltk_stopwords_extended]\n",
    "    # Remove empty tokens.\n",
    "    # print(text)\n",
    "    text = [word for word in text if len(word)>0]\n",
    "    # POS tagging of the text.\n",
    "    # print(text)\n",
    "    pos_tags = pos_tag(text)\n",
    "    # Lemmatize the text.\n",
    "    # print(text)\n",
    "    text = [WordNetLemmatizer().lemmatize(i_pos_tag[0], get_wordnet_pos(i_pos_tag[1])) for i_pos_tag in pos_tags]\n",
    "    # Remove words with only one letter.\n",
    "    # print(text)\n",
    "    text = [word for word in text if len(word)>1]\n",
    "    # Join the text with space as a word delimiter.\n",
    "    # print(text)\n",
    "    text = \" \".join(text)\n",
    "    # Remove non-ASCII characters.\n",
    "    printable = set(string.printable)\n",
    "    text = ''.join(filter(lambda x: x in printable, text))\n",
    "    return text"
   ]
  },
  {
   "cell_type": "code",
   "execution_count": 25,
   "metadata": {
    "execution": {
     "iopub.execute_input": "2020-11-27T07:56:42.133870Z",
     "iopub.status.busy": "2020-11-27T07:56:42.133173Z",
     "iopub.status.idle": "2020-11-27T07:56:42.252562Z",
     "shell.execute_reply": "2020-11-27T07:56:42.252061Z"
    },
    "papermill": {
     "duration": 0.191918,
     "end_time": "2020-11-27T07:56:42.252706",
     "exception": false,
     "start_time": "2020-11-27T07:56:42.060788",
     "status": "completed"
    },
    "tags": []
   },
   "outputs": [
    {
     "data": {
      "text/plain": [
       "[('A', 'DT'),\n",
       " ('sample', 'NN'),\n",
       " ('to', 'TO'),\n",
       " ('show', 'VB'),\n",
       " ('POS', 'NNP'),\n",
       " ('tagging', 'VBG')]"
      ]
     },
     "execution_count": 25,
     "metadata": {},
     "output_type": "execute_result"
    }
   ],
   "source": [
    "# Example of POS tagging.\n",
    "pos_tag(tokenize.word_tokenize('A sample to show POS tagging'))"
   ]
  },
  {
   "cell_type": "code",
   "execution_count": 26,
   "metadata": {
    "execution": {
     "iopub.execute_input": "2020-11-27T07:56:42.347204Z",
     "iopub.status.busy": "2020-11-27T07:56:42.346586Z",
     "iopub.status.idle": "2020-11-27T07:56:44.270118Z",
     "shell.execute_reply": "2020-11-27T07:56:44.270583Z"
    },
    "papermill": {
     "duration": 1.973415,
     "end_time": "2020-11-27T07:56:44.270746",
     "exception": false,
     "start_time": "2020-11-27T07:56:42.297331",
     "status": "completed"
    },
    "tags": []
   },
   "outputs": [
    {
     "data": {
      "text/plain": [
       "'first time id flown tk find good cabin crew plane food nice great ground ground staff call centre computer system flight lhr delay miss connection istanbul ground staff dont speak english give contradictory instruction could speak little english eventually get flight izmir three hour later wasnt easy process make bad vast distance walk gate cavernous new airport id phone tk call centre base ukraine pay extra way extra leg room seat departure time keep change seat keep change return leg london istanbul give extra leg room seat luckily spare exit row seat cabin crew sort overall think cabin crew plane good ground staff call centre staff need good train need good computer system software work'"
      ]
     },
     "execution_count": 26,
     "metadata": {},
     "output_type": "execute_result"
    }
   ],
   "source": [
    "text_cleaner(reviews_list[0])"
   ]
  },
  {
   "cell_type": "code",
   "execution_count": 27,
   "metadata": {
    "execution": {
     "iopub.execute_input": "2020-11-27T07:56:44.375986Z",
     "iopub.status.busy": "2020-11-27T07:56:44.371003Z",
     "iopub.status.idle": "2020-11-27T07:59:53.347855Z",
     "shell.execute_reply": "2020-11-27T07:59:53.347199Z"
    },
    "papermill": {
     "duration": 189.031705,
     "end_time": "2020-11-27T07:59:53.347961",
     "exception": false,
     "start_time": "2020-11-27T07:56:44.316256",
     "status": "completed"
    },
    "tags": []
   },
   "outputs": [],
   "source": [
    "df_nlp['review_text_clean'] = df_nlp['review_text'].apply(lambda x: text_cleaner(x))"
   ]
  },
  {
   "cell_type": "code",
   "execution_count": 28,
   "metadata": {
    "execution": {
     "iopub.execute_input": "2020-11-27T07:59:53.445537Z",
     "iopub.status.busy": "2020-11-27T07:59:53.444629Z",
     "iopub.status.idle": "2020-11-27T07:59:53.449623Z",
     "shell.execute_reply": "2020-11-27T07:59:53.448919Z"
    },
    "papermill": {
     "duration": 0.055717,
     "end_time": "2020-11-27T07:59:53.449774",
     "exception": false,
     "start_time": "2020-11-27T07:59:53.394057",
     "status": "completed"
    },
    "tags": []
   },
   "outputs": [
    {
     "data": {
      "text/plain": [
       "'first time id flown tk find good cabin crew plane food nice great ground ground staff call centre computer system flight lhr delay miss connection istanbul ground staff dont speak english give contradictory instruction could speak little english eventually get flight izmir three hour later wasnt easy process make bad vast distance walk gate cavernous new airport id phone tk call centre base ukraine pay extra way extra leg room seat departure time keep change seat keep change return leg london istanbul give extra leg room seat luckily spare exit row seat cabin crew sort overall think cabin crew plane good ground staff call centre staff need good train need good computer system software work'"
      ]
     },
     "execution_count": 28,
     "metadata": {},
     "output_type": "execute_result"
    }
   ],
   "source": [
    "df_nlp['review_text_clean'][0]"
   ]
  },
  {
   "cell_type": "markdown",
   "metadata": {
    "papermill": {
     "duration": 0.067989,
     "end_time": "2020-11-27T07:59:53.586172",
     "exception": false,
     "start_time": "2020-11-27T07:59:53.518183",
     "status": "completed"
    },
    "tags": []
   },
   "source": [
    "### 3.5.3 Vectorizing the text\n",
    "\n",
    "We convert the text of each customer review from a textual representation to a numerical representation. The vectors of the numerical representation correspond to the words that appear in the preprocessed text of the customer reviews. The values in the numerical representation correspond to the occurrences of the specified word in the customer review. To avoid ending up with too many features in the numerical representation, we limit the dictionary to the words that appear at least a minimum number of times in the customer reviews. This threshold is specified through the parameter min_df of CountVectorizer.\n",
    "\n",
    "For example, if we want to use a 3D numerical representation, we might have features corresponding to the words flight, service, food. For a certain customer review, the value of the feature flight will correspond to how many times flight is mentioned in the text, and similar for the other two features service and food."
   ]
  },
  {
   "cell_type": "code",
   "execution_count": 29,
   "metadata": {
    "execution": {
     "iopub.execute_input": "2020-11-27T07:59:53.728616Z",
     "iopub.status.busy": "2020-11-27T07:59:53.727739Z",
     "iopub.status.idle": "2020-11-27T07:59:53.730610Z",
     "shell.execute_reply": "2020-11-27T07:59:53.731187Z"
    },
    "papermill": {
     "duration": 0.076895,
     "end_time": "2020-11-27T07:59:53.731323",
     "exception": false,
     "start_time": "2020-11-27T07:59:53.654428",
     "status": "completed"
    },
    "tags": []
   },
   "outputs": [],
   "source": [
    "# Make a list of the reviews.\n",
    "corpus = df_nlp['review_text_clean'].values"
   ]
  },
  {
   "cell_type": "code",
   "execution_count": 30,
   "metadata": {
    "execution": {
     "iopub.execute_input": "2020-11-27T07:59:53.850283Z",
     "iopub.status.busy": "2020-11-27T07:59:53.845007Z",
     "iopub.status.idle": "2020-11-27T07:59:55.423073Z",
     "shell.execute_reply": "2020-11-27T07:59:55.422529Z"
    },
    "papermill": {
     "duration": 1.643366,
     "end_time": "2020-11-27T07:59:55.423185",
     "exception": false,
     "start_time": "2020-11-27T07:59:53.779819",
     "status": "completed"
    },
    "tags": []
   },
   "outputs": [
    {
     "data": {
      "text/plain": [
       "CountVectorizer(min_df=50)"
      ]
     },
     "execution_count": 30,
     "metadata": {},
     "output_type": "execute_result"
    }
   ],
   "source": [
    "vectorizer_ngrams = CountVectorizer(binary=False, ngram_range=(1, 1), analyzer='word', min_df=50)\n",
    "vectorizer_ngrams.fit(corpus)"
   ]
  },
  {
   "cell_type": "code",
   "execution_count": 31,
   "metadata": {
    "execution": {
     "iopub.execute_input": "2020-11-27T07:59:55.525339Z",
     "iopub.status.busy": "2020-11-27T07:59:55.524533Z",
     "iopub.status.idle": "2020-11-27T07:59:55.529777Z",
     "shell.execute_reply": "2020-11-27T07:59:55.529244Z"
    },
    "papermill": {
     "duration": 0.059304,
     "end_time": "2020-11-27T07:59:55.529886",
     "exception": false,
     "start_time": "2020-11-27T07:59:55.470582",
     "status": "completed"
    },
    "tags": []
   },
   "outputs": [
    {
     "data": {
      "text/plain": [
       "['aa',\n",
       " 'ababa',\n",
       " 'ability',\n",
       " 'able',\n",
       " 'aboard',\n",
       " 'abrupt',\n",
       " 'absolute',\n",
       " 'absolutely',\n",
       " 'abu',\n",
       " 'abysmal']"
      ]
     },
     "execution_count": 31,
     "metadata": {},
     "output_type": "execute_result"
    }
   ],
   "source": [
    "vec_review_text_clean_feats = vectorizer_ngrams.get_feature_names()\n",
    "vec_review_text_clean_feats[:10]"
   ]
  },
  {
   "cell_type": "code",
   "execution_count": 32,
   "metadata": {
    "execution": {
     "iopub.execute_input": "2020-11-27T07:59:55.645608Z",
     "iopub.status.busy": "2020-11-27T07:59:55.640294Z",
     "iopub.status.idle": "2020-11-27T07:59:57.125998Z",
     "shell.execute_reply": "2020-11-27T07:59:57.125266Z"
    },
    "papermill": {
     "duration": 1.547967,
     "end_time": "2020-11-27T07:59:57.126125",
     "exception": false,
     "start_time": "2020-11-27T07:59:55.578158",
     "status": "completed"
    },
    "tags": []
   },
   "outputs": [
    {
     "name": "stdout",
     "output_type": "stream",
     "text": [
      "(22822, 2442)\n",
      "int64\n"
     ]
    }
   ],
   "source": [
    "vec_review_text_clean = vectorizer_ngrams.transform(df_nlp['review_text_clean'])\n",
    "print(vec_review_text_clean.shape)\n",
    "print(vec_review_text_clean.dtype)"
   ]
  },
  {
   "cell_type": "code",
   "execution_count": 33,
   "metadata": {
    "execution": {
     "iopub.execute_input": "2020-11-27T07:59:57.276328Z",
     "iopub.status.busy": "2020-11-27T07:59:57.275677Z",
     "iopub.status.idle": "2020-11-27T07:59:57.475358Z",
     "shell.execute_reply": "2020-11-27T07:59:57.474619Z"
    },
    "papermill": {
     "duration": 0.276433,
     "end_time": "2020-11-27T07:59:57.475471",
     "exception": false,
     "start_time": "2020-11-27T07:59:57.199038",
     "status": "completed"
    },
    "tags": []
   },
   "outputs": [],
   "source": [
    "vec_review_text_clean_feats_new = ['count_'+feat for feat in vec_review_text_clean_feats]\n",
    "df_vec_review_text_clean = pd.DataFrame(vec_review_text_clean.toarray(),columns=vec_review_text_clean_feats_new)"
   ]
  },
  {
   "cell_type": "code",
   "execution_count": 34,
   "metadata": {
    "execution": {
     "iopub.execute_input": "2020-11-27T07:59:57.592830Z",
     "iopub.status.busy": "2020-11-27T07:59:57.592129Z",
     "iopub.status.idle": "2020-11-27T07:59:57.596630Z",
     "shell.execute_reply": "2020-11-27T07:59:57.596016Z"
    },
    "papermill": {
     "duration": 0.072599,
     "end_time": "2020-11-27T07:59:57.596758",
     "exception": false,
     "start_time": "2020-11-27T07:59:57.524159",
     "status": "completed"
    },
    "tags": []
   },
   "outputs": [
    {
     "data": {
      "text/html": [
       "<div>\n",
       "<style scoped>\n",
       "    .dataframe tbody tr th:only-of-type {\n",
       "        vertical-align: middle;\n",
       "    }\n",
       "\n",
       "    .dataframe tbody tr th {\n",
       "        vertical-align: top;\n",
       "    }\n",
       "\n",
       "    .dataframe thead th {\n",
       "        text-align: right;\n",
       "    }\n",
       "</style>\n",
       "<table border=\"1\" class=\"dataframe\">\n",
       "  <thead>\n",
       "    <tr style=\"text-align: right;\">\n",
       "      <th></th>\n",
       "      <th>count_aa</th>\n",
       "      <th>count_ababa</th>\n",
       "      <th>count_ability</th>\n",
       "      <th>count_able</th>\n",
       "      <th>count_aboard</th>\n",
       "      <th>count_abrupt</th>\n",
       "      <th>count_absolute</th>\n",
       "      <th>count_absolutely</th>\n",
       "      <th>count_abu</th>\n",
       "      <th>count_abysmal</th>\n",
       "      <th>...</th>\n",
       "      <th>count_yet</th>\n",
       "      <th>count_yoghurt</th>\n",
       "      <th>count_york</th>\n",
       "      <th>count_young</th>\n",
       "      <th>count_youre</th>\n",
       "      <th>count_yvr</th>\n",
       "      <th>count_yyz</th>\n",
       "      <th>count_zero</th>\n",
       "      <th>count_zone</th>\n",
       "      <th>count_zurich</th>\n",
       "    </tr>\n",
       "  </thead>\n",
       "  <tbody>\n",
       "    <tr>\n",
       "      <th>0</th>\n",
       "      <td>0</td>\n",
       "      <td>0</td>\n",
       "      <td>0</td>\n",
       "      <td>0</td>\n",
       "      <td>0</td>\n",
       "      <td>0</td>\n",
       "      <td>0</td>\n",
       "      <td>0</td>\n",
       "      <td>0</td>\n",
       "      <td>0</td>\n",
       "      <td>...</td>\n",
       "      <td>0</td>\n",
       "      <td>0</td>\n",
       "      <td>0</td>\n",
       "      <td>0</td>\n",
       "      <td>0</td>\n",
       "      <td>0</td>\n",
       "      <td>0</td>\n",
       "      <td>0</td>\n",
       "      <td>0</td>\n",
       "      <td>0</td>\n",
       "    </tr>\n",
       "    <tr>\n",
       "      <th>1</th>\n",
       "      <td>0</td>\n",
       "      <td>0</td>\n",
       "      <td>0</td>\n",
       "      <td>0</td>\n",
       "      <td>0</td>\n",
       "      <td>0</td>\n",
       "      <td>0</td>\n",
       "      <td>0</td>\n",
       "      <td>0</td>\n",
       "      <td>0</td>\n",
       "      <td>...</td>\n",
       "      <td>0</td>\n",
       "      <td>0</td>\n",
       "      <td>0</td>\n",
       "      <td>0</td>\n",
       "      <td>0</td>\n",
       "      <td>0</td>\n",
       "      <td>0</td>\n",
       "      <td>0</td>\n",
       "      <td>0</td>\n",
       "      <td>0</td>\n",
       "    </tr>\n",
       "    <tr>\n",
       "      <th>2</th>\n",
       "      <td>0</td>\n",
       "      <td>0</td>\n",
       "      <td>0</td>\n",
       "      <td>0</td>\n",
       "      <td>0</td>\n",
       "      <td>0</td>\n",
       "      <td>0</td>\n",
       "      <td>0</td>\n",
       "      <td>0</td>\n",
       "      <td>0</td>\n",
       "      <td>...</td>\n",
       "      <td>0</td>\n",
       "      <td>0</td>\n",
       "      <td>0</td>\n",
       "      <td>0</td>\n",
       "      <td>0</td>\n",
       "      <td>0</td>\n",
       "      <td>0</td>\n",
       "      <td>0</td>\n",
       "      <td>0</td>\n",
       "      <td>0</td>\n",
       "    </tr>\n",
       "    <tr>\n",
       "      <th>3</th>\n",
       "      <td>0</td>\n",
       "      <td>0</td>\n",
       "      <td>0</td>\n",
       "      <td>0</td>\n",
       "      <td>0</td>\n",
       "      <td>0</td>\n",
       "      <td>0</td>\n",
       "      <td>0</td>\n",
       "      <td>0</td>\n",
       "      <td>0</td>\n",
       "      <td>...</td>\n",
       "      <td>0</td>\n",
       "      <td>0</td>\n",
       "      <td>0</td>\n",
       "      <td>0</td>\n",
       "      <td>0</td>\n",
       "      <td>0</td>\n",
       "      <td>0</td>\n",
       "      <td>0</td>\n",
       "      <td>0</td>\n",
       "      <td>0</td>\n",
       "    </tr>\n",
       "    <tr>\n",
       "      <th>4</th>\n",
       "      <td>0</td>\n",
       "      <td>0</td>\n",
       "      <td>0</td>\n",
       "      <td>0</td>\n",
       "      <td>0</td>\n",
       "      <td>0</td>\n",
       "      <td>0</td>\n",
       "      <td>0</td>\n",
       "      <td>0</td>\n",
       "      <td>0</td>\n",
       "      <td>...</td>\n",
       "      <td>0</td>\n",
       "      <td>0</td>\n",
       "      <td>0</td>\n",
       "      <td>0</td>\n",
       "      <td>0</td>\n",
       "      <td>0</td>\n",
       "      <td>0</td>\n",
       "      <td>0</td>\n",
       "      <td>0</td>\n",
       "      <td>0</td>\n",
       "    </tr>\n",
       "  </tbody>\n",
       "</table>\n",
       "<p>5 rows × 2442 columns</p>\n",
       "</div>"
      ],
      "text/plain": [
       "   count_aa  count_ababa  count_ability  count_able  count_aboard  \\\n",
       "0         0            0              0           0             0   \n",
       "1         0            0              0           0             0   \n",
       "2         0            0              0           0             0   \n",
       "3         0            0              0           0             0   \n",
       "4         0            0              0           0             0   \n",
       "\n",
       "   count_abrupt  count_absolute  count_absolutely  count_abu  count_abysmal  \\\n",
       "0             0               0                 0          0              0   \n",
       "1             0               0                 0          0              0   \n",
       "2             0               0                 0          0              0   \n",
       "3             0               0                 0          0              0   \n",
       "4             0               0                 0          0              0   \n",
       "\n",
       "   ...  count_yet  count_yoghurt  count_york  count_young  count_youre  \\\n",
       "0  ...          0              0           0            0            0   \n",
       "1  ...          0              0           0            0            0   \n",
       "2  ...          0              0           0            0            0   \n",
       "3  ...          0              0           0            0            0   \n",
       "4  ...          0              0           0            0            0   \n",
       "\n",
       "   count_yvr  count_yyz  count_zero  count_zone  count_zurich  \n",
       "0          0          0           0           0             0  \n",
       "1          0          0           0           0             0  \n",
       "2          0          0           0           0             0  \n",
       "3          0          0           0           0             0  \n",
       "4          0          0           0           0             0  \n",
       "\n",
       "[5 rows x 2442 columns]"
      ]
     },
     "execution_count": 34,
     "metadata": {},
     "output_type": "execute_result"
    }
   ],
   "source": [
    "df_vec_review_text_clean.head()"
   ]
  },
  {
   "cell_type": "code",
   "execution_count": 35,
   "metadata": {
    "execution": {
     "iopub.execute_input": "2020-11-27T07:59:57.702134Z",
     "iopub.status.busy": "2020-11-27T07:59:57.701208Z",
     "iopub.status.idle": "2020-11-27T07:59:57.706301Z",
     "shell.execute_reply": "2020-11-27T07:59:57.705781Z"
    },
    "papermill": {
     "duration": 0.060402,
     "end_time": "2020-11-27T07:59:57.706412",
     "exception": false,
     "start_time": "2020-11-27T07:59:57.646010",
     "status": "completed"
    },
    "tags": []
   },
   "outputs": [
    {
     "data": {
      "text/plain": [
       "'first time id flown tk find good cabin crew plane food nice great ground ground staff call centre computer system flight lhr delay miss connection istanbul ground staff dont speak english give contradictory instruction could speak little english eventually get flight izmir three hour later wasnt easy process make bad vast distance walk gate cavernous new airport id phone tk call centre base ukraine pay extra way extra leg room seat departure time keep change seat keep change return leg london istanbul give extra leg room seat luckily spare exit row seat cabin crew sort overall think cabin crew plane good ground staff call centre staff need good train need good computer system software work'"
      ]
     },
     "execution_count": 35,
     "metadata": {},
     "output_type": "execute_result"
    }
   ],
   "source": [
    "df_nlp['review_text_clean'][0]"
   ]
  },
  {
   "cell_type": "code",
   "execution_count": 36,
   "metadata": {
    "execution": {
     "iopub.execute_input": "2020-11-27T07:59:57.819158Z",
     "iopub.status.busy": "2020-11-27T07:59:57.818256Z",
     "iopub.status.idle": "2020-11-27T07:59:57.822731Z",
     "shell.execute_reply": "2020-11-27T07:59:57.823195Z"
    },
    "papermill": {
     "duration": 0.065831,
     "end_time": "2020-11-27T07:59:57.823337",
     "exception": false,
     "start_time": "2020-11-27T07:59:57.757506",
     "status": "completed"
    },
    "tags": []
   },
   "outputs": [
    {
     "data": {
      "text/plain": [
       "0"
      ]
     },
     "execution_count": 36,
     "metadata": {},
     "output_type": "execute_result"
    }
   ],
   "source": [
    "df_vec_review_text_clean.iloc[0]['count_lose']"
   ]
  },
  {
   "cell_type": "code",
   "execution_count": 37,
   "metadata": {
    "execution": {
     "iopub.execute_input": "2020-11-27T07:59:57.930476Z",
     "iopub.status.busy": "2020-11-27T07:59:57.929258Z",
     "iopub.status.idle": "2020-11-27T07:59:58.640359Z",
     "shell.execute_reply": "2020-11-27T07:59:58.639483Z"
    },
    "papermill": {
     "duration": 0.767075,
     "end_time": "2020-11-27T07:59:58.640490",
     "exception": false,
     "start_time": "2020-11-27T07:59:57.873415",
     "status": "completed"
    },
    "tags": []
   },
   "outputs": [
    {
     "data": {
      "text/html": [
       "<div>\n",
       "<style scoped>\n",
       "    .dataframe tbody tr th:only-of-type {\n",
       "        vertical-align: middle;\n",
       "    }\n",
       "\n",
       "    .dataframe tbody tr th {\n",
       "        vertical-align: top;\n",
       "    }\n",
       "\n",
       "    .dataframe thead th {\n",
       "        text-align: right;\n",
       "    }\n",
       "</style>\n",
       "<table border=\"1\" class=\"dataframe\">\n",
       "  <thead>\n",
       "    <tr style=\"text-align: right;\">\n",
       "      <th></th>\n",
       "      <th>airline</th>\n",
       "      <th>review_score</th>\n",
       "      <th>traveller_type</th>\n",
       "      <th>cabin</th>\n",
       "      <th>seat_comfort</th>\n",
       "      <th>cabin_service</th>\n",
       "      <th>food_bev</th>\n",
       "      <th>entertainment</th>\n",
       "      <th>ground_service</th>\n",
       "      <th>value_for_money</th>\n",
       "      <th>...</th>\n",
       "      <th>count_yet</th>\n",
       "      <th>count_yoghurt</th>\n",
       "      <th>count_york</th>\n",
       "      <th>count_young</th>\n",
       "      <th>count_youre</th>\n",
       "      <th>count_yvr</th>\n",
       "      <th>count_yyz</th>\n",
       "      <th>count_zero</th>\n",
       "      <th>count_zone</th>\n",
       "      <th>count_zurich</th>\n",
       "    </tr>\n",
       "  </thead>\n",
       "  <tbody>\n",
       "    <tr>\n",
       "      <th>0</th>\n",
       "      <td>Turkish Airlines</td>\n",
       "      <td>7</td>\n",
       "      <td>Business</td>\n",
       "      <td>Economy Class</td>\n",
       "      <td>4</td>\n",
       "      <td>5</td>\n",
       "      <td>4</td>\n",
       "      <td>4</td>\n",
       "      <td>2</td>\n",
       "      <td>4</td>\n",
       "      <td>...</td>\n",
       "      <td>0</td>\n",
       "      <td>0</td>\n",
       "      <td>0</td>\n",
       "      <td>0</td>\n",
       "      <td>0</td>\n",
       "      <td>0</td>\n",
       "      <td>0</td>\n",
       "      <td>0</td>\n",
       "      <td>0</td>\n",
       "      <td>0</td>\n",
       "    </tr>\n",
       "    <tr>\n",
       "      <th>1</th>\n",
       "      <td>Turkish Airlines</td>\n",
       "      <td>2</td>\n",
       "      <td>Family Leisure</td>\n",
       "      <td>Economy Class</td>\n",
       "      <td>4</td>\n",
       "      <td>1</td>\n",
       "      <td>1</td>\n",
       "      <td>1</td>\n",
       "      <td>1</td>\n",
       "      <td>1</td>\n",
       "      <td>...</td>\n",
       "      <td>0</td>\n",
       "      <td>0</td>\n",
       "      <td>0</td>\n",
       "      <td>0</td>\n",
       "      <td>0</td>\n",
       "      <td>0</td>\n",
       "      <td>0</td>\n",
       "      <td>0</td>\n",
       "      <td>0</td>\n",
       "      <td>0</td>\n",
       "    </tr>\n",
       "    <tr>\n",
       "      <th>2</th>\n",
       "      <td>Turkish Airlines</td>\n",
       "      <td>3</td>\n",
       "      <td>Business</td>\n",
       "      <td>Economy Class</td>\n",
       "      <td>1</td>\n",
       "      <td>4</td>\n",
       "      <td>1</td>\n",
       "      <td>3</td>\n",
       "      <td>1</td>\n",
       "      <td>2</td>\n",
       "      <td>...</td>\n",
       "      <td>0</td>\n",
       "      <td>0</td>\n",
       "      <td>0</td>\n",
       "      <td>0</td>\n",
       "      <td>0</td>\n",
       "      <td>0</td>\n",
       "      <td>0</td>\n",
       "      <td>0</td>\n",
       "      <td>0</td>\n",
       "      <td>0</td>\n",
       "    </tr>\n",
       "    <tr>\n",
       "      <th>3</th>\n",
       "      <td>Turkish Airlines</td>\n",
       "      <td>10</td>\n",
       "      <td>Solo Leisure</td>\n",
       "      <td>Economy Class</td>\n",
       "      <td>4</td>\n",
       "      <td>5</td>\n",
       "      <td>5</td>\n",
       "      <td>5</td>\n",
       "      <td>5</td>\n",
       "      <td>5</td>\n",
       "      <td>...</td>\n",
       "      <td>0</td>\n",
       "      <td>0</td>\n",
       "      <td>0</td>\n",
       "      <td>0</td>\n",
       "      <td>0</td>\n",
       "      <td>0</td>\n",
       "      <td>0</td>\n",
       "      <td>0</td>\n",
       "      <td>0</td>\n",
       "      <td>0</td>\n",
       "    </tr>\n",
       "    <tr>\n",
       "      <th>4</th>\n",
       "      <td>Turkish Airlines</td>\n",
       "      <td>1</td>\n",
       "      <td>Solo Leisure</td>\n",
       "      <td>Economy Class</td>\n",
       "      <td>1</td>\n",
       "      <td>1</td>\n",
       "      <td>1</td>\n",
       "      <td>1</td>\n",
       "      <td>1</td>\n",
       "      <td>1</td>\n",
       "      <td>...</td>\n",
       "      <td>0</td>\n",
       "      <td>0</td>\n",
       "      <td>0</td>\n",
       "      <td>0</td>\n",
       "      <td>0</td>\n",
       "      <td>0</td>\n",
       "      <td>0</td>\n",
       "      <td>0</td>\n",
       "      <td>0</td>\n",
       "      <td>0</td>\n",
       "    </tr>\n",
       "  </tbody>\n",
       "</table>\n",
       "<p>5 rows × 2466 columns</p>\n",
       "</div>"
      ],
      "text/plain": [
       "            airline  review_score  traveller_type          cabin  \\\n",
       "0  Turkish Airlines             7        Business  Economy Class   \n",
       "1  Turkish Airlines             2  Family Leisure  Economy Class   \n",
       "2  Turkish Airlines             3        Business  Economy Class   \n",
       "3  Turkish Airlines            10    Solo Leisure  Economy Class   \n",
       "4  Turkish Airlines             1    Solo Leisure  Economy Class   \n",
       "\n",
       "   seat_comfort  cabin_service  food_bev  entertainment  ground_service  \\\n",
       "0             4              5         4              4               2   \n",
       "1             4              1         1              1               1   \n",
       "2             1              4         1              3               1   \n",
       "3             4              5         5              5               5   \n",
       "4             1              1         1              1               1   \n",
       "\n",
       "   value_for_money  ... count_yet  count_yoghurt  count_york  count_young  \\\n",
       "0                4  ...         0              0           0            0   \n",
       "1                1  ...         0              0           0            0   \n",
       "2                2  ...         0              0           0            0   \n",
       "3                5  ...         0              0           0            0   \n",
       "4                1  ...         0              0           0            0   \n",
       "\n",
       "   count_youre  count_yvr  count_yyz  count_zero  count_zone count_zurich  \n",
       "0            0          0          0           0           0            0  \n",
       "1            0          0          0           0           0            0  \n",
       "2            0          0          0           0           0            0  \n",
       "3            0          0          0           0           0            0  \n",
       "4            0          0          0           0           0            0  \n",
       "\n",
       "[5 rows x 2466 columns]"
      ]
     },
     "execution_count": 37,
     "metadata": {},
     "output_type": "execute_result"
    }
   ],
   "source": [
    "df_nlp_final = pd.concat([df_nlp,df_vec_review_text_clean], axis=1)\n",
    "df_nlp_final.head()"
   ]
  },
  {
   "cell_type": "markdown",
   "metadata": {
    "papermill": {
     "duration": 0.075884,
     "end_time": "2020-11-27T07:59:58.791802",
     "exception": false,
     "start_time": "2020-11-27T07:59:58.715918",
     "status": "completed"
    },
    "tags": []
   },
   "source": [
    "# 4. Save the final processed data"
   ]
  },
  {
   "cell_type": "code",
   "execution_count": 38,
   "metadata": {
    "execution": {
     "iopub.execute_input": "2020-11-27T07:59:58.951222Z",
     "iopub.status.busy": "2020-11-27T07:59:58.947634Z",
     "iopub.status.idle": "2020-11-27T08:00:11.767808Z",
     "shell.execute_reply": "2020-11-27T08:00:11.767168Z"
    },
    "papermill": {
     "duration": 12.901707,
     "end_time": "2020-11-27T08:00:11.767924",
     "exception": false,
     "start_time": "2020-11-27T07:59:58.866217",
     "status": "completed"
    },
    "tags": []
   },
   "outputs": [],
   "source": [
    "df_nlp_final_types = df_nlp_final.dtypes.to_frame('dtypes').reset_index()\n",
    "\n",
    "df_nlp_types = df_nlp.dtypes.to_frame('dtypes').reset_index()\n",
    "\n",
    "df_nlp_final.to_csv('./NLPFinalDataLight.csv')\n",
    "df_nlp_final_types.to_csv('./NLPFinalDataLightTypes.csv')\n",
    "\n",
    "df_nlp.to_csv('./NLPDataLight.csv')\n",
    "df_nlp_types.to_csv('.NLPDataLightTypes.csv')"
   ]
  },
  {
   "cell_type": "code",
   "execution_count": 39,
   "metadata": {
    "execution": {
     "iopub.execute_input": "2020-11-27T08:00:11.877146Z",
     "iopub.status.busy": "2020-11-27T08:00:11.876309Z",
     "iopub.status.idle": "2020-11-27T08:00:11.880809Z",
     "shell.execute_reply": "2020-11-27T08:00:11.880290Z"
    },
    "papermill": {
     "duration": 0.061845,
     "end_time": "2020-11-27T08:00:11.880915",
     "exception": false,
     "start_time": "2020-11-27T08:00:11.819070",
     "status": "completed"
    },
    "tags": []
   },
   "outputs": [],
   "source": [
    "with open('./VecReviewTextCleanFeats.csv', 'w') as f:\n",
    "    f.write(', '.join(vec_review_text_clean_feats_new))"
   ]
  },
  {
   "cell_type": "code",
   "execution_count": 40,
   "metadata": {
    "execution": {
     "iopub.execute_input": "2020-11-27T08:00:11.986879Z",
     "iopub.status.busy": "2020-11-27T08:00:11.986145Z",
     "iopub.status.idle": "2020-11-27T08:00:11.990495Z",
     "shell.execute_reply": "2020-11-27T08:00:11.990001Z"
    },
    "papermill": {
     "duration": 0.059224,
     "end_time": "2020-11-27T08:00:11.990595",
     "exception": false,
     "start_time": "2020-11-27T08:00:11.931371",
     "status": "completed"
    },
    "tags": []
   },
   "outputs": [],
   "source": [
    "with open('./NLTKStopWordsExtended.csv', 'w') as f:\n",
    "    f.write(', '.join(nltk_stopwords_extended))"
   ]
  },
  {
   "cell_type": "markdown",
   "metadata": {
    "papermill": {
     "duration": 0.050345,
     "end_time": "2020-11-27T08:00:12.090954",
     "exception": false,
     "start_time": "2020-11-27T08:00:12.040609",
     "status": "completed"
    },
    "tags": []
   },
   "source": [
    "**Thanks for reading my work. Any suggestions and comments are more than welcome. Now we have completed the pre-processing of the airline reviews data. It's time to train a model. A separate notebook on model training could be found [here](https://www.kaggle.com/divyansh22/lgbm-classifier-for-airline-recommendation)! If you like the work, please feel free to upvote (motivation :D)!**\n",
    "\n",
    "**Cheers!!**"
   ]
  }
 ],
 "metadata": {
  "kernelspec": {
   "display_name": "Python 3 (ipykernel)",
   "language": "python",
   "name": "python3"
  },
  "language_info": {
   "codemirror_mode": {
    "name": "ipython",
    "version": 3
   },
   "file_extension": ".py",
   "mimetype": "text/x-python",
   "name": "python",
   "nbconvert_exporter": "python",
   "pygments_lexer": "ipython3",
   "version": "3.9.13"
  },
  "papermill": {
   "duration": 301.435097,
   "end_time": "2020-11-27T08:00:12.250538",
   "environment_variables": {},
   "exception": null,
   "input_path": "__notebook__.ipynb",
   "output_path": "__notebook__.ipynb",
   "parameters": {},
   "start_time": "2020-11-27T07:55:10.815441",
   "version": "2.1.0"
  }
 },
 "nbformat": 4,
 "nbformat_minor": 4
}
